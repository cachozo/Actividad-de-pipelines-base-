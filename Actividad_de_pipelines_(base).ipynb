{
  "nbformat": 4,
  "nbformat_minor": 0,
  "metadata": {
    "colab": {
      "provenance": [],
      "collapsed_sections": []
    },
    "kernelspec": {
      "name": "python3",
      "display_name": "Python 3"
    },
    "language_info": {
      "name": "python"
    }
  },
  "cells": [
    {
      "cell_type": "code",
      "execution_count": 1,
      "metadata": {
        "id": "6H6QcPRygcEQ"
      },
      "outputs": [],
      "source": [
        "import numpy as np\n",
        "import pandas as pd\n",
        "from sklearn.model_selection import train_test_split\n",
        "from sklearn.compose import make_column_selector, make_column_transformer\n",
        "from sklearn.impute import SimpleImputer\n",
        "from sklearn.pipeline import make_pipeline\n",
        "from sklearn.preprocessing import StandardScaler, OneHotEncoder\n",
        "from sklearn import set_config\n",
        "set_config(display = 'diagram')"
      ]
    },
    {
      "cell_type": "code",
      "source": [
        "from google.colab import drive\n",
        "drive.mount('/content/drive')"
      ],
      "metadata": {
        "colab": {
          "base_uri": "https://localhost:8080/"
        },
        "id": "GsMX-5HniKZU",
        "outputId": "c2e54d56-b53c-4793-ac5d-d055da645515"
      },
      "execution_count": 3,
      "outputs": [
        {
          "output_type": "stream",
          "name": "stdout",
          "text": [
            "Mounted at /content/drive\n"
          ]
        }
      ]
    },
    {
      "cell_type": "code",
      "source": [
        "filename = '/content/drive/My Drive/Cereal with missing values.xlsx'\n",
        "df = pd.read_excel(filename, index_col = 'name')\n",
        "df.head()\n",
        "#¿Qué tan bien se pueden predecir las calorías basándose en el fabricante, tipo de cereal, gramos de grasa, gramos de azúcares y el peso en onzas por una porción del cereal? "
      ],
      "metadata": {
        "colab": {
          "base_uri": "https://localhost:8080/",
          "height": 334
        },
        "id": "bAPv0Y-aiV3O",
        "outputId": "7e713c5f-0a53-4d51-bc76-56b9e3fa1349"
      },
      "execution_count": 14,
      "outputs": [
        {
          "output_type": "execute_result",
          "data": {
            "text/plain": [
              "                          Manufacturer  type  calories per serving  \\\n",
              "name                                                                 \n",
              "Apple Cinnamon Cheerios  General Mills  Cold                 110.0   \n",
              "Basic 4                  General Mills  Cold                 130.0   \n",
              "Cheerios                 General Mills  Cold                   NaN   \n",
              "Cinnamon Toast Crunch    General Mills  Cold                 120.0   \n",
              "Clusters                 General Mills  Cold                 110.0   \n",
              "\n",
              "                         grams of protein  grams of fat  milligrams of sodium  \\\n",
              "name                                                                            \n",
              "Apple Cinnamon Cheerios               2.0           2.0                 180.0   \n",
              "Basic 4                               3.0           2.0                   NaN   \n",
              "Cheerios                              6.0           2.0                 290.0   \n",
              "Cinnamon Toast Crunch                 1.0           3.0                 210.0   \n",
              "Clusters                              3.0           2.0                 140.0   \n",
              "\n",
              "                         grams of dietary fiber  \\\n",
              "name                                              \n",
              "Apple Cinnamon Cheerios                     1.5   \n",
              "Basic 4                                     2.0   \n",
              "Cheerios                                    2.0   \n",
              "Cinnamon Toast Crunch                       0.0   \n",
              "Clusters                                    2.0   \n",
              "\n",
              "                         grams of complex carbohydrates  grams of sugars  \\\n",
              "name                                                                       \n",
              "Apple Cinnamon Cheerios                            10.5             10.0   \n",
              "Basic 4                                            18.0              NaN   \n",
              "Cheerios                                           17.0              1.0   \n",
              "Cinnamon Toast Crunch                              13.0              9.0   \n",
              "Clusters                                           13.0              7.0   \n",
              "\n",
              "                         milligrams of potassium  \\\n",
              "name                                               \n",
              "Apple Cinnamon Cheerios                     70.0   \n",
              "Basic 4                                    100.0   \n",
              "Cheerios                                   105.0   \n",
              "Cinnamon Toast Crunch                       45.0   \n",
              "Clusters                                   105.0   \n",
              "\n",
              "                         vitamins and minerals (% of FDA recommendation)  \\\n",
              "name                                                                       \n",
              "Apple Cinnamon Cheerios                                             25.0   \n",
              "Basic 4                                                             25.0   \n",
              "Cheerios                                                            25.0   \n",
              "Cinnamon Toast Crunch                                               25.0   \n",
              "Clusters                                                            25.0   \n",
              "\n",
              "                         Display shelf  Weight in ounces per one serving  \\\n",
              "name                                                                       \n",
              "Apple Cinnamon Cheerios            1.0                              1.00   \n",
              "Basic 4                            3.0                              1.33   \n",
              "Cheerios                           1.0                              1.00   \n",
              "Cinnamon Toast Crunch              2.0                              1.00   \n",
              "Clusters                           3.0                              1.00   \n",
              "\n",
              "                         Number of cups in one serving  Rating of cereal  \n",
              "name                                                                      \n",
              "Apple Cinnamon Cheerios                           0.75         29.509541  \n",
              "Basic 4                                           0.75         37.038562  \n",
              "Cheerios                                          1.25         50.764999  \n",
              "Cinnamon Toast Crunch                             0.75         19.823573  \n",
              "Clusters                                          0.50         40.400208  "
            ],
            "text/html": [
              "\n",
              "  <div id=\"df-d383991e-906d-45dc-9615-53ca9191abaa\">\n",
              "    <div class=\"colab-df-container\">\n",
              "      <div>\n",
              "<style scoped>\n",
              "    .dataframe tbody tr th:only-of-type {\n",
              "        vertical-align: middle;\n",
              "    }\n",
              "\n",
              "    .dataframe tbody tr th {\n",
              "        vertical-align: top;\n",
              "    }\n",
              "\n",
              "    .dataframe thead th {\n",
              "        text-align: right;\n",
              "    }\n",
              "</style>\n",
              "<table border=\"1\" class=\"dataframe\">\n",
              "  <thead>\n",
              "    <tr style=\"text-align: right;\">\n",
              "      <th></th>\n",
              "      <th>Manufacturer</th>\n",
              "      <th>type</th>\n",
              "      <th>calories per serving</th>\n",
              "      <th>grams of protein</th>\n",
              "      <th>grams of fat</th>\n",
              "      <th>milligrams of sodium</th>\n",
              "      <th>grams of dietary fiber</th>\n",
              "      <th>grams of complex carbohydrates</th>\n",
              "      <th>grams of sugars</th>\n",
              "      <th>milligrams of potassium</th>\n",
              "      <th>vitamins and minerals (% of FDA recommendation)</th>\n",
              "      <th>Display shelf</th>\n",
              "      <th>Weight in ounces per one serving</th>\n",
              "      <th>Number of cups in one serving</th>\n",
              "      <th>Rating of cereal</th>\n",
              "    </tr>\n",
              "    <tr>\n",
              "      <th>name</th>\n",
              "      <th></th>\n",
              "      <th></th>\n",
              "      <th></th>\n",
              "      <th></th>\n",
              "      <th></th>\n",
              "      <th></th>\n",
              "      <th></th>\n",
              "      <th></th>\n",
              "      <th></th>\n",
              "      <th></th>\n",
              "      <th></th>\n",
              "      <th></th>\n",
              "      <th></th>\n",
              "      <th></th>\n",
              "      <th></th>\n",
              "    </tr>\n",
              "  </thead>\n",
              "  <tbody>\n",
              "    <tr>\n",
              "      <th>Apple Cinnamon Cheerios</th>\n",
              "      <td>General Mills</td>\n",
              "      <td>Cold</td>\n",
              "      <td>110.0</td>\n",
              "      <td>2.0</td>\n",
              "      <td>2.0</td>\n",
              "      <td>180.0</td>\n",
              "      <td>1.5</td>\n",
              "      <td>10.5</td>\n",
              "      <td>10.0</td>\n",
              "      <td>70.0</td>\n",
              "      <td>25.0</td>\n",
              "      <td>1.0</td>\n",
              "      <td>1.00</td>\n",
              "      <td>0.75</td>\n",
              "      <td>29.509541</td>\n",
              "    </tr>\n",
              "    <tr>\n",
              "      <th>Basic 4</th>\n",
              "      <td>General Mills</td>\n",
              "      <td>Cold</td>\n",
              "      <td>130.0</td>\n",
              "      <td>3.0</td>\n",
              "      <td>2.0</td>\n",
              "      <td>NaN</td>\n",
              "      <td>2.0</td>\n",
              "      <td>18.0</td>\n",
              "      <td>NaN</td>\n",
              "      <td>100.0</td>\n",
              "      <td>25.0</td>\n",
              "      <td>3.0</td>\n",
              "      <td>1.33</td>\n",
              "      <td>0.75</td>\n",
              "      <td>37.038562</td>\n",
              "    </tr>\n",
              "    <tr>\n",
              "      <th>Cheerios</th>\n",
              "      <td>General Mills</td>\n",
              "      <td>Cold</td>\n",
              "      <td>NaN</td>\n",
              "      <td>6.0</td>\n",
              "      <td>2.0</td>\n",
              "      <td>290.0</td>\n",
              "      <td>2.0</td>\n",
              "      <td>17.0</td>\n",
              "      <td>1.0</td>\n",
              "      <td>105.0</td>\n",
              "      <td>25.0</td>\n",
              "      <td>1.0</td>\n",
              "      <td>1.00</td>\n",
              "      <td>1.25</td>\n",
              "      <td>50.764999</td>\n",
              "    </tr>\n",
              "    <tr>\n",
              "      <th>Cinnamon Toast Crunch</th>\n",
              "      <td>General Mills</td>\n",
              "      <td>Cold</td>\n",
              "      <td>120.0</td>\n",
              "      <td>1.0</td>\n",
              "      <td>3.0</td>\n",
              "      <td>210.0</td>\n",
              "      <td>0.0</td>\n",
              "      <td>13.0</td>\n",
              "      <td>9.0</td>\n",
              "      <td>45.0</td>\n",
              "      <td>25.0</td>\n",
              "      <td>2.0</td>\n",
              "      <td>1.00</td>\n",
              "      <td>0.75</td>\n",
              "      <td>19.823573</td>\n",
              "    </tr>\n",
              "    <tr>\n",
              "      <th>Clusters</th>\n",
              "      <td>General Mills</td>\n",
              "      <td>Cold</td>\n",
              "      <td>110.0</td>\n",
              "      <td>3.0</td>\n",
              "      <td>2.0</td>\n",
              "      <td>140.0</td>\n",
              "      <td>2.0</td>\n",
              "      <td>13.0</td>\n",
              "      <td>7.0</td>\n",
              "      <td>105.0</td>\n",
              "      <td>25.0</td>\n",
              "      <td>3.0</td>\n",
              "      <td>1.00</td>\n",
              "      <td>0.50</td>\n",
              "      <td>40.400208</td>\n",
              "    </tr>\n",
              "  </tbody>\n",
              "</table>\n",
              "</div>\n",
              "      <button class=\"colab-df-convert\" onclick=\"convertToInteractive('df-d383991e-906d-45dc-9615-53ca9191abaa')\"\n",
              "              title=\"Convert this dataframe to an interactive table.\"\n",
              "              style=\"display:none;\">\n",
              "        \n",
              "  <svg xmlns=\"http://www.w3.org/2000/svg\" height=\"24px\"viewBox=\"0 0 24 24\"\n",
              "       width=\"24px\">\n",
              "    <path d=\"M0 0h24v24H0V0z\" fill=\"none\"/>\n",
              "    <path d=\"M18.56 5.44l.94 2.06.94-2.06 2.06-.94-2.06-.94-.94-2.06-.94 2.06-2.06.94zm-11 1L8.5 8.5l.94-2.06 2.06-.94-2.06-.94L8.5 2.5l-.94 2.06-2.06.94zm10 10l.94 2.06.94-2.06 2.06-.94-2.06-.94-.94-2.06-.94 2.06-2.06.94z\"/><path d=\"M17.41 7.96l-1.37-1.37c-.4-.4-.92-.59-1.43-.59-.52 0-1.04.2-1.43.59L10.3 9.45l-7.72 7.72c-.78.78-.78 2.05 0 2.83L4 21.41c.39.39.9.59 1.41.59.51 0 1.02-.2 1.41-.59l7.78-7.78 2.81-2.81c.8-.78.8-2.07 0-2.86zM5.41 20L4 18.59l7.72-7.72 1.47 1.35L5.41 20z\"/>\n",
              "  </svg>\n",
              "      </button>\n",
              "      \n",
              "  <style>\n",
              "    .colab-df-container {\n",
              "      display:flex;\n",
              "      flex-wrap:wrap;\n",
              "      gap: 12px;\n",
              "    }\n",
              "\n",
              "    .colab-df-convert {\n",
              "      background-color: #E8F0FE;\n",
              "      border: none;\n",
              "      border-radius: 50%;\n",
              "      cursor: pointer;\n",
              "      display: none;\n",
              "      fill: #1967D2;\n",
              "      height: 32px;\n",
              "      padding: 0 0 0 0;\n",
              "      width: 32px;\n",
              "    }\n",
              "\n",
              "    .colab-df-convert:hover {\n",
              "      background-color: #E2EBFA;\n",
              "      box-shadow: 0px 1px 2px rgba(60, 64, 67, 0.3), 0px 1px 3px 1px rgba(60, 64, 67, 0.15);\n",
              "      fill: #174EA6;\n",
              "    }\n",
              "\n",
              "    [theme=dark] .colab-df-convert {\n",
              "      background-color: #3B4455;\n",
              "      fill: #D2E3FC;\n",
              "    }\n",
              "\n",
              "    [theme=dark] .colab-df-convert:hover {\n",
              "      background-color: #434B5C;\n",
              "      box-shadow: 0px 1px 3px 1px rgba(0, 0, 0, 0.15);\n",
              "      filter: drop-shadow(0px 1px 2px rgba(0, 0, 0, 0.3));\n",
              "      fill: #FFFFFF;\n",
              "    }\n",
              "  </style>\n",
              "\n",
              "      <script>\n",
              "        const buttonEl =\n",
              "          document.querySelector('#df-d383991e-906d-45dc-9615-53ca9191abaa button.colab-df-convert');\n",
              "        buttonEl.style.display =\n",
              "          google.colab.kernel.accessAllowed ? 'block' : 'none';\n",
              "\n",
              "        async function convertToInteractive(key) {\n",
              "          const element = document.querySelector('#df-d383991e-906d-45dc-9615-53ca9191abaa');\n",
              "          const dataTable =\n",
              "            await google.colab.kernel.invokeFunction('convertToInteractive',\n",
              "                                                     [key], {});\n",
              "          if (!dataTable) return;\n",
              "\n",
              "          const docLinkHtml = 'Like what you see? Visit the ' +\n",
              "            '<a target=\"_blank\" href=https://colab.research.google.com/notebooks/data_table.ipynb>data table notebook</a>'\n",
              "            + ' to learn more about interactive tables.';\n",
              "          element.innerHTML = '';\n",
              "          dataTable['output_type'] = 'display_data';\n",
              "          await google.colab.output.renderOutput(dataTable, element);\n",
              "          const docLink = document.createElement('div');\n",
              "          docLink.innerHTML = docLinkHtml;\n",
              "          element.appendChild(docLink);\n",
              "        }\n",
              "      </script>\n",
              "    </div>\n",
              "  </div>\n",
              "  "
            ]
          },
          "metadata": {},
          "execution_count": 14
        }
      ]
    },
    {
      "cell_type": "code",
      "source": [
        "# Primero buscamos duplicados\n",
        "\n",
        "print('Hay', df.duplicated().sum(), 'duplicados.')\n"
      ],
      "metadata": {
        "colab": {
          "base_uri": "https://localhost:8080/"
        },
        "id": "YYCW3cJcjxJr",
        "outputId": "1dcb73f5-d3ff-43bb-e659-336b3b41f133"
      },
      "execution_count": 15,
      "outputs": [
        {
          "output_type": "stream",
          "name": "stdout",
          "text": [
            "Hay 0 duplicados.\n"
          ]
        }
      ]
    },
    {
      "cell_type": "code",
      "source": [
        "# Segundo buscamos datos que faltan\n",
        "\n",
        "print('Hay', df.isna().sum().sum(), 'datos que faltan')"
      ],
      "metadata": {
        "colab": {
          "base_uri": "https://localhost:8080/"
        },
        "id": "OSLrerCPmucr",
        "outputId": "bb27f385-98f7-4c3c-9f66-af8005b22d0b"
      },
      "execution_count": 16,
      "outputs": [
        {
          "output_type": "stream",
          "name": "stdout",
          "text": [
            "Hay 35 datos que faltan\n"
          ]
        }
      ]
    },
    {
      "cell_type": "code",
      "source": [
        "# Listar por columna\n",
        "df.isna().sum()"
      ],
      "metadata": {
        "colab": {
          "base_uri": "https://localhost:8080/"
        },
        "id": "T0y78r7LmrDw",
        "outputId": "1ae8fbf9-b7cc-452a-88eb-fccc7d7e4db9"
      },
      "execution_count": 17,
      "outputs": [
        {
          "output_type": "execute_result",
          "data": {
            "text/plain": [
              "Manufacturer                                       0\n",
              "type                                               9\n",
              "calories per serving                               7\n",
              "grams of protein                                   0\n",
              "grams of fat                                       8\n",
              "milligrams of sodium                               1\n",
              "grams of dietary fiber                             0\n",
              "grams of complex carbohydrates                     0\n",
              "grams of sugars                                    9\n",
              "milligrams of potassium                            0\n",
              "vitamins and minerals (% of FDA recommendation)    1\n",
              "Display shelf                                      0\n",
              "Weight in ounces per one serving                   0\n",
              "Number of cups in one serving                      0\n",
              "Rating of cereal                                   0\n",
              "dtype: int64"
            ]
          },
          "metadata": {},
          "execution_count": 17
        }
      ]
    },
    {
      "cell_type": "code",
      "source": [
        "# Damos de baja los nan que hay en nuestro objetivo.\n",
        "df.dropna(subset = ['calories per serving'], inplace = True)"
      ],
      "metadata": {
        "id": "TL2T9MEZnCiu"
      },
      "execution_count": 35,
      "outputs": []
    },
    {
      "cell_type": "code",
      "source": [
        "# Verificar que si se eliminaron\n",
        "print('Hay', df['calories per serving'].isna().sum(), 'datos de calorias que faltan')"
      ],
      "metadata": {
        "colab": {
          "base_uri": "https://localhost:8080/"
        },
        "id": "O_HG5U0CmtvU",
        "outputId": "b03b8403-58fa-4990-c91d-9946063d2c29"
      },
      "execution_count": 19,
      "outputs": [
        {
          "output_type": "stream",
          "name": "stdout",
          "text": [
            "Hay 0 datos de calorias que faltan\n"
          ]
        }
      ]
    },
    {
      "cell_type": "code",
      "source": [
        "#Identificar cada característica como numérica, ordinal o nominal. (Entreguen esta pregunta en una celda de texto en un cuaderno de Colab).\n",
        "\n",
        "print(df.select_dtypes(include = 'object').info())\n",
        "print(df.select_dtypes(include = 'number').info())"
      ],
      "metadata": {
        "colab": {
          "base_uri": "https://localhost:8080/"
        },
        "id": "CDxBe_SOnmhe",
        "outputId": "a67c42ea-c86a-4016-d477-d998137b080d"
      },
      "execution_count": 20,
      "outputs": [
        {
          "output_type": "stream",
          "name": "stdout",
          "text": [
            "<class 'pandas.core.frame.DataFrame'>\n",
            "Index: 70 entries, Apple Cinnamon Cheerios to Quaker Oatmeal\n",
            "Data columns (total 2 columns):\n",
            " #   Column        Non-Null Count  Dtype \n",
            "---  ------        --------------  ----- \n",
            " 0   Manufacturer  70 non-null     object\n",
            " 1   type          62 non-null     object\n",
            "dtypes: object(2)\n",
            "memory usage: 1.6+ KB\n",
            "None\n",
            "<class 'pandas.core.frame.DataFrame'>\n",
            "Index: 70 entries, Apple Cinnamon Cheerios to Quaker Oatmeal\n",
            "Data columns (total 13 columns):\n",
            " #   Column                                           Non-Null Count  Dtype  \n",
            "---  ------                                           --------------  -----  \n",
            " 0   calories per serving                             70 non-null     float64\n",
            " 1   grams of protein                                 70 non-null     float64\n",
            " 2   grams of fat                                     62 non-null     float64\n",
            " 3   milligrams of sodium                             69 non-null     float64\n",
            " 4   grams of dietary fiber                           70 non-null     float64\n",
            " 5   grams of complex carbohydrates                   70 non-null     float64\n",
            " 6   grams of sugars                                  62 non-null     float64\n",
            " 7   milligrams of potassium                          70 non-null     float64\n",
            " 8   vitamins and minerals (% of FDA recommendation)  69 non-null     float64\n",
            " 9   Display shelf                                    70 non-null     float64\n",
            " 10  Weight in ounces per one serving                 70 non-null     float64\n",
            " 11  Number of cups in one serving                    70 non-null     float64\n",
            " 12  Rating of cereal                                 70 non-null     float64\n",
            "dtypes: float64(13)\n",
            "memory usage: 7.7+ KB\n",
            "None\n"
          ]
        }
      ]
    },
    {
      "cell_type": "markdown",
      "source": [
        "La manufacturer y la type son nominales y el resto son numéricas: \n",
        "-calories per serving\n",
        "-grams of fat\n",
        "-milligrams of sodium\n",
        "-grams of dietary fiber\n",
        "-grams of sugars\n",
        "-milligrams of potassium\n",
        "-vitamins and minerals\n",
        "-Weight in ounces per one serving\n",
        "-Number of cups in one serving\n",
        "-Rating of cereal"
      ],
      "metadata": {
        "id": "4jSo2BdupCIC"
      }
    },
    {
      "cell_type": "code",
      "source": [
        "#Definir la característica (X) y objetivo (y).\n",
        "\n",
        "característica = ['Manufacturer', \n",
        "            'type', \n",
        "            'grams of fat', \n",
        "            'grams of sugars',\n",
        "            'Weight in ounces per one serving']\n",
        "X = df[característica]\n",
        "y = df['calories per serving']"
      ],
      "metadata": {
        "id": "hhtzrx67pq1I"
      },
      "execution_count": 21,
      "outputs": []
    },
    {
      "cell_type": "code",
      "source": [
        "#Utilizar train test split en los datos para prepararlos para aprendizaje automático.\n",
        "\n",
        "X_train, X_test, y_train, y_test = train_test_split(X, y, random_state = 42)"
      ],
      "metadata": {
        "id": "dhtzX-Q-p7Z_"
      },
      "execution_count": 22,
      "outputs": []
    },
    {
      "cell_type": "code",
      "source": [
        "# Utilizar transformadores de columnas:select\n",
        "num_selector = make_column_selector(dtype_include = 'number')\n",
        "cat_selector = make_column_selector(dtype_include = 'object')\n",
        "\n",
        "# Utilizar transformadores de columnas:trans. \n",
        "scaler = StandardScaler()\n",
        "ohe = OneHotEncoder(sparse = False, handle_unknown = 'ignore')\n"
      ],
      "metadata": {
        "id": "GNL3-RBzqYSr"
      },
      "execution_count": 23,
      "outputs": []
    },
    {
      "cell_type": "code",
      "source": [
        "# Imputar algún valor faltante. Utilizar la estrategia “mean” para las columnas numéricas y la estrategia “most_frequent” para las columnas categóricas.\n",
        "mean_imp = SimpleImputer(strategy = 'mean')\n",
        "freq_imp = SimpleImputer(strategy = 'most_frequent')\n",
        "\n",
        "# Utilizar pipelines\n",
        "num_pipeline = make_pipeline(mean_imp, scaler)\n",
        "cat_pipeline = make_pipeline(freq_imp, ohe)"
      ],
      "metadata": {
        "id": "TB5NJCoiqbMI"
      },
      "execution_count": 24,
      "outputs": []
    },
    {
      "cell_type": "code",
      "source": [
        "# Hacer tuplas\n",
        "num_tuple = (num_pipeline, num_selector)\n",
        "cat_tuple = (cat_pipeline, cat_selector)\n",
        "\n",
        "# APLICAR\n",
        "preprocesamiento = make_column_transformer(num_tuple, cat_tuple)"
      ],
      "metadata": {
        "id": "VeWGHdejqecE"
      },
      "execution_count": 29,
      "outputs": []
    },
    {
      "cell_type": "code",
      "source": [
        "# Todos los datos de preprocesamiento deben estar contenidos en un único objeto de preprocesamiento.\n",
        "preprocesamiento.fit(X_train)\n",
        "\n",
        "# APLICAR\n",
        "X_train_processed = preprocesamiento.transform(X_train)\n",
        "X_test_processed = preprocesamiento.transform(X_test)"
      ],
      "metadata": {
        "id": "yye2cEuGr8CO"
      },
      "execution_count": 31,
      "outputs": []
    },
    {
      "cell_type": "code",
      "source": [
        "# evitar la fuga de datos para dejarlos listos para el modelado.\n",
        "print('Hay',  np.isnan(X_train_processed).sum().sum(), 'datos que faltan en el training.')\n",
        "print('Hay', np.isnan(X_test_processed).sum().sum(), 'datos que faltan en el set.')\n"
      ],
      "metadata": {
        "colab": {
          "base_uri": "https://localhost:8080/"
        },
        "id": "RGC1HsxnswO_",
        "outputId": "c7a7996a-84cd-4f53-db51-696412a18b10"
      },
      "execution_count": 32,
      "outputs": [
        {
          "output_type": "stream",
          "name": "stdout",
          "text": [
            "Hay 0 datos que faltan en el training.\n",
            "Hay 0 datos que faltan en el set.\n"
          ]
        }
      ]
    },
    {
      "cell_type": "code",
      "source": [
        "# Exp de los datos\n",
        "\n",
        "print(X_train_processed)\n",
        "print ('------')\n",
        "print(X_test_processed)"
      ],
      "metadata": {
        "colab": {
          "base_uri": "https://localhost:8080/"
        },
        "id": "gpEwMKPgtJhl",
        "outputId": "40e76f42-bcae-46b0-ca91-a43680bda29c"
      },
      "execution_count": 40,
      "outputs": [
        {
          "output_type": "stream",
          "name": "stdout",
          "text": [
            "[[-1.00539366e+00 -1.53835815e+00 -3.52083059e+00  0.00000000e+00\n",
            "   0.00000000e+00  0.00000000e+00  0.00000000e+00  1.00000000e+00\n",
            "   0.00000000e+00  1.00000000e+00  0.00000000e+00]\n",
            " [-4.10364759e-02  1.19210391e+00 -2.39769825e-01  0.00000000e+00\n",
            "   0.00000000e+00  0.00000000e+00  1.00000000e+00  0.00000000e+00\n",
            "   0.00000000e+00  1.00000000e+00  0.00000000e+00]\n",
            " [-4.10364759e-02 -8.55742637e-01 -2.39769825e-01  1.00000000e+00\n",
            "   0.00000000e+00  0.00000000e+00  0.00000000e+00  0.00000000e+00\n",
            "   0.00000000e+00  1.00000000e+00  0.00000000e+00]\n",
            " [ 9.23320709e-01  5.44113816e-02  1.92573028e+00  0.00000000e+00\n",
            "   1.00000000e+00  0.00000000e+00  0.00000000e+00  0.00000000e+00\n",
            "   0.00000000e+00  1.00000000e+00  0.00000000e+00]\n",
            " [-1.00539366e+00 -1.53835815e+00 -1.35533049e+00  0.00000000e+00\n",
            "   0.00000000e+00  1.00000000e+00  0.00000000e+00  0.00000000e+00\n",
            "   0.00000000e+00  1.00000000e+00  0.00000000e+00]\n",
            " [-1.00539366e+00  5.44113816e-02 -2.39769825e-01  0.00000000e+00\n",
            "   1.00000000e+00  0.00000000e+00  0.00000000e+00  0.00000000e+00\n",
            "   0.00000000e+00  1.00000000e+00  0.00000000e+00]\n",
            " [-4.10364759e-02  5.09488391e-01 -2.39769825e-01  1.00000000e+00\n",
            "   0.00000000e+00  0.00000000e+00  0.00000000e+00  0.00000000e+00\n",
            "   0.00000000e+00  1.00000000e+00  0.00000000e+00]\n",
            " [ 3.81639226e+00  2.81949886e-01 -2.39769825e-01  0.00000000e+00\n",
            "   0.00000000e+00  0.00000000e+00  0.00000000e+00  1.00000000e+00\n",
            "   0.00000000e+00  1.00000000e+00  0.00000000e+00]\n",
            " [-1.00539366e+00 -8.55742637e-01 -2.39769825e-01  0.00000000e+00\n",
            "   1.00000000e+00  0.00000000e+00  0.00000000e+00  0.00000000e+00\n",
            "   0.00000000e+00  1.00000000e+00  0.00000000e+00]\n",
            " [-1.00539366e+00 -1.53835815e+00 -2.39769825e-01  0.00000000e+00\n",
            "   0.00000000e+00  1.00000000e+00  0.00000000e+00  0.00000000e+00\n",
            "   0.00000000e+00  1.00000000e+00  0.00000000e+00]\n",
            " [ 2.14130310e-16  0.00000000e+00  1.40076056e+00  0.00000000e+00\n",
            "   0.00000000e+00  0.00000000e+00  1.00000000e+00  0.00000000e+00\n",
            "   0.00000000e+00  1.00000000e+00  0.00000000e+00]\n",
            " [-4.10364759e-02  2.81949886e-01 -2.39769825e-01  1.00000000e+00\n",
            "   0.00000000e+00  0.00000000e+00  0.00000000e+00  0.00000000e+00\n",
            "   0.00000000e+00  1.00000000e+00  0.00000000e+00]\n",
            " [ 2.14130310e-16  0.00000000e+00 -2.39769825e-01  0.00000000e+00\n",
            "   0.00000000e+00  0.00000000e+00  0.00000000e+00  1.00000000e+00\n",
            "   0.00000000e+00  1.00000000e+00  0.00000000e+00]\n",
            " [-4.10364759e-02  1.87471942e+00 -2.39769825e-01  0.00000000e+00\n",
            "   1.00000000e+00  0.00000000e+00  0.00000000e+00  0.00000000e+00\n",
            "   0.00000000e+00  1.00000000e+00  0.00000000e+00]\n",
            " [ 2.14130310e-16  0.00000000e+00 -2.39769825e-01  0.00000000e+00\n",
            "   1.00000000e+00  0.00000000e+00  0.00000000e+00  0.00000000e+00\n",
            "   0.00000000e+00  1.00000000e+00  0.00000000e+00]\n",
            " [ 2.14130310e-16 -8.55742637e-01 -2.39769825e-01  0.00000000e+00\n",
            "   1.00000000e+00  0.00000000e+00  0.00000000e+00  0.00000000e+00\n",
            "   0.00000000e+00  1.00000000e+00  0.00000000e+00]\n",
            " [-4.10364759e-02 -8.55742637e-01 -2.39769825e-01  1.00000000e+00\n",
            "   0.00000000e+00  0.00000000e+00  0.00000000e+00  0.00000000e+00\n",
            "   0.00000000e+00  1.00000000e+00  0.00000000e+00]\n",
            " [-1.00539366e+00 -8.55742637e-01 -2.39769825e-01  0.00000000e+00\n",
            "   0.00000000e+00  0.00000000e+00  1.00000000e+00  0.00000000e+00\n",
            "   0.00000000e+00  1.00000000e+00  0.00000000e+00]\n",
            " [ 9.23320709e-01  5.44113816e-02 -2.39769825e-01  1.00000000e+00\n",
            "   0.00000000e+00  0.00000000e+00  0.00000000e+00  0.00000000e+00\n",
            "   0.00000000e+00  1.00000000e+00  0.00000000e+00]\n",
            " [-4.10364759e-02  0.00000000e+00 -2.39769825e-01  1.00000000e+00\n",
            "   0.00000000e+00  0.00000000e+00  0.00000000e+00  0.00000000e+00\n",
            "   0.00000000e+00  1.00000000e+00  0.00000000e+00]\n",
            " [-4.10364759e-02  7.37026896e-01 -2.39769825e-01  1.00000000e+00\n",
            "   0.00000000e+00  0.00000000e+00  0.00000000e+00  0.00000000e+00\n",
            "   0.00000000e+00  1.00000000e+00  0.00000000e+00]\n",
            " [ 9.23320709e-01  9.64565400e-01 -2.39769825e-01  0.00000000e+00\n",
            "   0.00000000e+00  0.00000000e+00  0.00000000e+00  1.00000000e+00\n",
            "   0.00000000e+00  1.00000000e+00  0.00000000e+00]\n",
            " [-4.10364759e-02  7.37026896e-01 -2.39769825e-01  1.00000000e+00\n",
            "   0.00000000e+00  0.00000000e+00  0.00000000e+00  0.00000000e+00\n",
            "   0.00000000e+00  1.00000000e+00  0.00000000e+00]\n",
            " [-4.10364759e-02  1.19210391e+00  1.92573028e+00  0.00000000e+00\n",
            "   1.00000000e+00  0.00000000e+00  0.00000000e+00  0.00000000e+00\n",
            "   0.00000000e+00  1.00000000e+00  0.00000000e+00]\n",
            " [ 1.88767789e+00  9.64565400e-01 -2.39769825e-01  0.00000000e+00\n",
            "   0.00000000e+00  0.00000000e+00  0.00000000e+00  0.00000000e+00\n",
            "   1.00000000e+00  1.00000000e+00  0.00000000e+00]\n",
            " [ 9.23320709e-01 -1.76589666e+00 -2.39769825e-01  0.00000000e+00\n",
            "   0.00000000e+00  0.00000000e+00  0.00000000e+00  1.00000000e+00\n",
            "   0.00000000e+00  0.00000000e+00  1.00000000e+00]\n",
            " [-1.00539366e+00 -1.53835815e+00 -2.39769825e-01  0.00000000e+00\n",
            "   0.00000000e+00  1.00000000e+00  0.00000000e+00  0.00000000e+00\n",
            "   0.00000000e+00  0.00000000e+00  1.00000000e+00]\n",
            " [-4.10364759e-02 -8.55742637e-01 -2.39769825e-01  1.00000000e+00\n",
            "   0.00000000e+00  0.00000000e+00  0.00000000e+00  0.00000000e+00\n",
            "   0.00000000e+00  1.00000000e+00  0.00000000e+00]\n",
            " [-1.00539366e+00  9.64565400e-01 -2.39769825e-01  0.00000000e+00\n",
            "   1.00000000e+00  0.00000000e+00  0.00000000e+00  0.00000000e+00\n",
            "   0.00000000e+00  1.00000000e+00  0.00000000e+00]\n",
            " [-4.10364759e-02 -1.73127123e-01 -2.39769825e-01  0.00000000e+00\n",
            "   0.00000000e+00  1.00000000e+00  0.00000000e+00  0.00000000e+00\n",
            "   0.00000000e+00  1.00000000e+00  0.00000000e+00]\n",
            " [-4.10364759e-02  1.41964241e+00 -2.39769825e-01  0.00000000e+00\n",
            "   1.00000000e+00  0.00000000e+00  0.00000000e+00  0.00000000e+00\n",
            "   0.00000000e+00  1.00000000e+00  0.00000000e+00]\n",
            " [-1.00539366e+00  1.87471942e+00 -2.39769825e-01  0.00000000e+00\n",
            "   0.00000000e+00  0.00000000e+00  1.00000000e+00  0.00000000e+00\n",
            "   0.00000000e+00  1.00000000e+00  0.00000000e+00]\n",
            " [-1.00539366e+00  1.19210391e+00 -2.39769825e-01  0.00000000e+00\n",
            "   1.00000000e+00  0.00000000e+00  0.00000000e+00  0.00000000e+00\n",
            "   0.00000000e+00  1.00000000e+00  0.00000000e+00]\n",
            " [-4.10364759e-02 -1.73127123e-01 -2.39769825e-01  0.00000000e+00\n",
            "   0.00000000e+00  0.00000000e+00  0.00000000e+00  1.00000000e+00\n",
            "   0.00000000e+00  1.00000000e+00  0.00000000e+00]\n",
            " [ 1.88767789e+00  9.64565400e-01 -2.39769825e-01  0.00000000e+00\n",
            "   0.00000000e+00  0.00000000e+00  0.00000000e+00  0.00000000e+00\n",
            "   1.00000000e+00  1.00000000e+00  0.00000000e+00]\n",
            " [-4.10364759e-02 -1.73127123e-01 -2.39769825e-01  1.00000000e+00\n",
            "   0.00000000e+00  0.00000000e+00  0.00000000e+00  0.00000000e+00\n",
            "   0.00000000e+00  1.00000000e+00  0.00000000e+00]\n",
            " [ 9.23320709e-01  1.41964241e+00  3.04129094e+00  0.00000000e+00\n",
            "   1.00000000e+00  0.00000000e+00  0.00000000e+00  0.00000000e+00\n",
            "   0.00000000e+00  1.00000000e+00  0.00000000e+00]\n",
            " [-4.10364759e-02 -8.55742637e-01 -2.39769825e-01  0.00000000e+00\n",
            "   0.00000000e+00  0.00000000e+00  0.00000000e+00  0.00000000e+00\n",
            "   1.00000000e+00  1.00000000e+00  0.00000000e+00]\n",
            " [-1.00539366e+00 -8.55742637e-01 -2.39769825e-01  0.00000000e+00\n",
            "   0.00000000e+00  0.00000000e+00  0.00000000e+00  0.00000000e+00\n",
            "   1.00000000e+00  1.00000000e+00  0.00000000e+00]\n",
            " [-1.00539366e+00 -1.73127123e-01 -2.39769825e-01  0.00000000e+00\n",
            "   1.00000000e+00  0.00000000e+00  0.00000000e+00  0.00000000e+00\n",
            "   0.00000000e+00  1.00000000e+00  0.00000000e+00]\n",
            " [-1.00539366e+00  1.19210391e+00  1.92573028e+00  0.00000000e+00\n",
            "   1.00000000e+00  0.00000000e+00  0.00000000e+00  0.00000000e+00\n",
            "   0.00000000e+00  1.00000000e+00  0.00000000e+00]\n",
            " [-1.00539366e+00 -1.53835815e+00 -2.39769825e-01  0.00000000e+00\n",
            "   0.00000000e+00  1.00000000e+00  0.00000000e+00  0.00000000e+00\n",
            "   0.00000000e+00  1.00000000e+00  0.00000000e+00]\n",
            " [ 2.14130310e-16 -1.08328114e+00 -2.39769825e-01  0.00000000e+00\n",
            "   0.00000000e+00  0.00000000e+00  0.00000000e+00  0.00000000e+00\n",
            "   1.00000000e+00  1.00000000e+00  0.00000000e+00]\n",
            " [ 9.23320709e-01  0.00000000e+00  1.92573028e+00  1.00000000e+00\n",
            "   0.00000000e+00  0.00000000e+00  0.00000000e+00  0.00000000e+00\n",
            "   0.00000000e+00  1.00000000e+00  0.00000000e+00]\n",
            " [-1.00539366e+00  9.64565400e-01 -2.39769825e-01  0.00000000e+00\n",
            "   0.00000000e+00  0.00000000e+00  1.00000000e+00  0.00000000e+00\n",
            "   0.00000000e+00  1.00000000e+00  0.00000000e+00]\n",
            " [-1.00539366e+00 -1.53835815e+00 -2.39769825e-01  0.00000000e+00\n",
            "   1.00000000e+00  0.00000000e+00  0.00000000e+00  0.00000000e+00\n",
            "   0.00000000e+00  1.00000000e+00  0.00000000e+00]\n",
            " [ 1.88767789e+00  5.09488391e-01 -2.39769825e-01  1.00000000e+00\n",
            "   0.00000000e+00  0.00000000e+00  0.00000000e+00  0.00000000e+00\n",
            "   0.00000000e+00  1.00000000e+00  0.00000000e+00]\n",
            " [-1.00539366e+00 -1.08328114e+00 -2.39769825e-01  0.00000000e+00\n",
            "   1.00000000e+00  0.00000000e+00  0.00000000e+00  0.00000000e+00\n",
            "   0.00000000e+00  1.00000000e+00  0.00000000e+00]\n",
            " [-4.10364759e-02  0.00000000e+00 -2.39769825e-01  0.00000000e+00\n",
            "   1.00000000e+00  0.00000000e+00  0.00000000e+00  0.00000000e+00\n",
            "   0.00000000e+00  1.00000000e+00  0.00000000e+00]\n",
            " [ 9.23320709e-01  2.81949886e-01 -2.39769825e-01  0.00000000e+00\n",
            "   0.00000000e+00  0.00000000e+00  0.00000000e+00  0.00000000e+00\n",
            "   1.00000000e+00  1.00000000e+00  0.00000000e+00]\n",
            " [-4.10364759e-02  1.64718091e+00  3.04129094e+00  1.00000000e+00\n",
            "   0.00000000e+00  0.00000000e+00  0.00000000e+00  0.00000000e+00\n",
            "   0.00000000e+00  1.00000000e+00  0.00000000e+00]\n",
            " [ 1.88767789e+00 -6.28204133e-01 -2.39769825e-01  0.00000000e+00\n",
            "   0.00000000e+00  0.00000000e+00  1.00000000e+00  0.00000000e+00\n",
            "   0.00000000e+00  1.00000000e+00  0.00000000e+00]]\n",
            "------\n",
            "[[-1.00539366e+00  1.64718091e+00 -2.39769825e-01  0.00000000e+00\n",
            "   1.00000000e+00  0.00000000e+00  0.00000000e+00  0.00000000e+00\n",
            "   0.00000000e+00  1.00000000e+00  0.00000000e+00]\n",
            " [ 9.23320709e-01  7.37026896e-01 -2.39769825e-01  1.00000000e+00\n",
            "   0.00000000e+00  0.00000000e+00  0.00000000e+00  0.00000000e+00\n",
            "   0.00000000e+00  1.00000000e+00  0.00000000e+00]\n",
            " [-4.10364759e-02 -4.00665628e-01 -2.39769825e-01  0.00000000e+00\n",
            "   0.00000000e+00  0.00000000e+00  1.00000000e+00  0.00000000e+00\n",
            "   0.00000000e+00  1.00000000e+00  0.00000000e+00]\n",
            " [-4.10364759e-02  1.41964241e+00 -2.39769825e-01  1.00000000e+00\n",
            "   0.00000000e+00  0.00000000e+00  0.00000000e+00  0.00000000e+00\n",
            "   0.00000000e+00  1.00000000e+00  0.00000000e+00]\n",
            " [ 9.23320709e-01  1.19210391e+00 -2.39769825e-01  0.00000000e+00\n",
            "   0.00000000e+00  0.00000000e+00  0.00000000e+00  1.00000000e+00\n",
            "   0.00000000e+00  1.00000000e+00  0.00000000e+00]\n",
            " [ 2.14130310e-16 -8.55742637e-01 -2.39769825e-01  1.00000000e+00\n",
            "   0.00000000e+00  0.00000000e+00  0.00000000e+00  0.00000000e+00\n",
            "   0.00000000e+00  1.00000000e+00  0.00000000e+00]\n",
            " [ 2.14130310e-16  1.19210391e+00 -2.39769825e-01  1.00000000e+00\n",
            "   0.00000000e+00  0.00000000e+00  0.00000000e+00  0.00000000e+00\n",
            "   0.00000000e+00  1.00000000e+00  0.00000000e+00]\n",
            " [ 2.14130310e-16  5.09488391e-01 -2.39769825e-01  0.00000000e+00\n",
            "   1.00000000e+00  0.00000000e+00  0.00000000e+00  0.00000000e+00\n",
            "   0.00000000e+00  1.00000000e+00  0.00000000e+00]\n",
            " [-1.00539366e+00 -4.00665628e-01 -2.39769825e-01  0.00000000e+00\n",
            "   0.00000000e+00  0.00000000e+00  1.00000000e+00  0.00000000e+00\n",
            "   0.00000000e+00  1.00000000e+00  0.00000000e+00]\n",
            " [ 9.23320709e-01  2.81949886e-01 -2.39769825e-01  1.00000000e+00\n",
            "   0.00000000e+00  0.00000000e+00  0.00000000e+00  0.00000000e+00\n",
            "   0.00000000e+00  1.00000000e+00  0.00000000e+00]\n",
            " [-4.10364759e-02  0.00000000e+00  1.72886663e+00  0.00000000e+00\n",
            "   1.00000000e+00  0.00000000e+00  0.00000000e+00  0.00000000e+00\n",
            "   0.00000000e+00  1.00000000e+00  0.00000000e+00]\n",
            " [-4.10364759e-02 -8.55742637e-01 -2.39769825e-01  1.00000000e+00\n",
            "   0.00000000e+00  0.00000000e+00  0.00000000e+00  0.00000000e+00\n",
            "   0.00000000e+00  1.00000000e+00  0.00000000e+00]\n",
            " [-4.10364759e-02  0.00000000e+00 -2.39769825e-01  0.00000000e+00\n",
            "   0.00000000e+00  0.00000000e+00  0.00000000e+00  0.00000000e+00\n",
            "   0.00000000e+00  0.00000000e+00  1.00000000e+00]\n",
            " [-4.10364759e-02  1.41964241e+00 -2.39769825e-01  1.00000000e+00\n",
            "   0.00000000e+00  0.00000000e+00  0.00000000e+00  0.00000000e+00\n",
            "   0.00000000e+00  1.00000000e+00  0.00000000e+00]\n",
            " [-1.00539366e+00 -4.00665628e-01 -2.39769825e-01  0.00000000e+00\n",
            "   0.00000000e+00  0.00000000e+00  0.00000000e+00  0.00000000e+00\n",
            "   1.00000000e+00  1.00000000e+00  0.00000000e+00]\n",
            " [-4.10364759e-02 -1.73127123e-01 -2.39769825e-01  0.00000000e+00\n",
            "   1.00000000e+00  0.00000000e+00  0.00000000e+00  0.00000000e+00\n",
            "   0.00000000e+00  1.00000000e+00  0.00000000e+00]\n",
            " [-1.00539366e+00 -1.53835815e+00 -3.52083059e+00  0.00000000e+00\n",
            "   0.00000000e+00  0.00000000e+00  0.00000000e+00  1.00000000e+00\n",
            "   0.00000000e+00  1.00000000e+00  0.00000000e+00]\n",
            " [-1.00539366e+00 -1.08328114e+00 -2.39769825e-01  0.00000000e+00\n",
            "   1.00000000e+00  0.00000000e+00  0.00000000e+00  0.00000000e+00\n",
            "   0.00000000e+00  1.00000000e+00  0.00000000e+00]]\n"
          ]
        }
      ]
    }
  ]
}